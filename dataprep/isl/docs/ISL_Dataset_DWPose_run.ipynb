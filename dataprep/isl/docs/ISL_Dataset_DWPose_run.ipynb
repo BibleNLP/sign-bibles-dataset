{
  "cells": [
    {
      "cell_type": "markdown",
      "metadata": {
        "id": "EO1gl4CvcMR8"
      },
      "source": [
        "# ISL Dataprep\n",
        "## Run DWPose on downsampled and trimmed videos"
      ]
    },
    {
      "cell_type": "markdown",
      "source": [
        "## Set up data"
      ],
      "metadata": {
        "id": "n3pQDHLybitK"
      }
    },
    {
      "cell_type": "markdown",
      "metadata": {
        "id": "oYHqQZ1wce49"
      },
      "source": [
        "Data Source: Lambda filesystem\n",
        "  - bucket name: 921c05b3-8e02-4c0b-9623-d1de39939163\n",
        "  - region: us-east-3\n",
        "\n",
        "\n",
        "AWS creds needed:\n",
        "  - AWS_ACCESS_KEY_ID=9P7Q2ADQR5WPGY83629B\n",
        "  - AWS_SECRET_ACCESS_KEY=*********\n",
        "  - AWS_REGION=us-east-3\n",
        "  - S3_ENDPOINT_URL=\"https://files.us-east-3.lambda.ai\"\n",
        "\n",
        "Change the bucket and credentials when using a different instance. These are given as pattern reference."
      ]
    },
    {
      "cell_type": "code",
      "execution_count": null,
      "metadata": {
        "id": "h2NnwJyecIrU",
        "collapsed": true
      },
      "outputs": [],
      "source": [
        "!pip install awscli boto3"
      ]
    },
    {
      "cell_type": "code",
      "source": [
        "! aws --version"
      ],
      "metadata": {
        "colab": {
          "base_uri": "https://localhost:8080/"
        },
        "id": "JMqsJlzpHmIr",
        "outputId": "cb565044-f551-47b4-d353-7c90ed998499"
      },
      "execution_count": 2,
      "outputs": [
        {
          "output_type": "stream",
          "name": "stdout",
          "text": [
            "aws-cli/1.42.18 Python/3.12.11 Linux/6.1.123+ botocore/1.40.18\n"
          ]
        }
      ]
    },
    {
      "cell_type": "code",
      "execution_count": null,
      "metadata": {
        "id": "oQi49VlTcKbH"
      },
      "outputs": [],
      "source": [
        "import os\n",
        "os.environ['AWS_ACCESS_KEY_ID'] = '9P7Q2ADQR5WPGY83629B'\n",
        "os.environ['AWS_SECRET_ACCESS_KEY'] = '****'\n",
        "os.environ['AWS_DEFAULT_REGION'] = 'us-east-3'"
      ]
    },
    {
      "cell_type": "code",
      "source": [
        "! aws configure"
      ],
      "metadata": {
        "id": "kFiiKQfeK8gS"
      },
      "execution_count": null,
      "outputs": []
    },
    {
      "cell_type": "code",
      "source": [
        "!echo \"[default]\" > ~/.aws/config\n",
        "!echo \"region =us-east-3 \" >> ~/.aws/config\n",
        "!echo \"endpoint-url =https://files.us-east-3.lambda.ai \" >> ~/.aws/config\n",
        "!echo \"\" >> ~/.aws/config\n",
        "\n",
        "\n",
        "!echo \"request_checksum_calculation =when_required \" >> ~/.aws/config\n",
        "!echo \"response_checksum_validation =when_required \" >> ~/.aws/config\n",
        "!echo \"\" >> ~/.aws/config\n"
      ],
      "metadata": {
        "id": "pFdIW4zdLuXG"
      },
      "execution_count": 4,
      "outputs": []
    },
    {
      "cell_type": "code",
      "source": [
        "cat ~/.aws/config"
      ],
      "metadata": {
        "colab": {
          "base_uri": "https://localhost:8080/"
        },
        "id": "LpoOK2VFLOsd",
        "outputId": "0882fd12-e877-4908-9be5-0c2262d72ad1"
      },
      "execution_count": 5,
      "outputs": [
        {
          "output_type": "stream",
          "name": "stdout",
          "text": [
            "[default]\n",
            "region =us-east-3 \n",
            "endpoint-url =https://files.us-east-3.lambda.ai \n",
            "\n",
            "request_checksum_calculation =when_required \n",
            "response_checksum_validation =when_required \n",
            "\n"
          ]
        }
      ]
    },
    {
      "cell_type": "code",
      "execution_count": 6,
      "metadata": {
        "id": "raWZpLt7cKeX",
        "colab": {
          "base_uri": "https://localhost:8080/"
        },
        "outputId": "feb78dbc-3963-4336-9066-cd8026f02e38"
      },
      "outputs": [
        {
          "output_type": "stream",
          "name": "stdout",
          "text": [
            "                           PRE ENV/\n",
            "                           PRE code/\n",
            "                           PRE isl_dict_videos/\n",
            "                           PRE isl_gospel_videos/\n",
            "                           PRE logs/\n",
            "                           PRE models/\n",
            "                           PRE outputs/\n"
          ]
        }
      ],
      "source": [
        "!aws s3 ls s3://921c05b3-8e02-4c0b-9623-d1de39939163/ --endpoint-url https://files.us-east-3.lambda.ai"
      ]
    },
    {
      "cell_type": "code",
      "execution_count": null,
      "metadata": {
        "id": "Ir5DEWkHcKhG"
      },
      "outputs": [],
      "source": [
        "!aws s3 cp s3://921c05b3-8e02-4c0b-9623-d1de39939163/isl_gospel_videos/ /content/isl_gospel_videos --recursive --endpoint-url https://files.us-east-3.lambda.ai"
      ]
    },
    {
      "cell_type": "code",
      "execution_count": 9,
      "metadata": {
        "id": "VLcl6MJlcKj3",
        "colab": {
          "base_uri": "https://localhost:8080/"
        },
        "outputId": "83268456-c259-4a1b-c549-5a82a84500b9"
      },
      "outputs": [
        {
          "output_type": "stream",
          "name": "stdout",
          "text": [
            "download: s3://921c05b3-8e02-4c0b-9623-d1de39939163/models/dw-ll_ucoco_384.onnx to models/dw-ll_ucoco_384.onnx\n",
            "download: s3://921c05b3-8e02-4c0b-9623-d1de39939163/models/yolox_l.onnx to models/yolox_l.onnx\n"
          ]
        }
      ],
      "source": [
        "! aws s3 cp s3://921c05b3-8e02-4c0b-9623-d1de39939163/models/ /content/models --recursive --endpoint-url https://files.us-east-3.lambda.ai"
      ]
    },
    {
      "cell_type": "code",
      "execution_count": 10,
      "metadata": {
        "id": "7IdT7SDccKmY",
        "colab": {
          "base_uri": "https://localhost:8080/"
        },
        "outputId": "f3a2bcb1-a6b5-46d1-99dd-49162941ab2c"
      },
      "outputs": [
        {
          "output_type": "stream",
          "name": "stdout",
          "text": [
            "Filesystem      Size  Used Avail Use% Mounted on\n",
            "overlay         236G   64G  172G  28% /\n"
          ]
        }
      ],
      "source": [
        "! df -h /"
      ]
    },
    {
      "cell_type": "code",
      "source": [
        "ls /content/"
      ],
      "metadata": {
        "colab": {
          "base_uri": "https://localhost:8080/"
        },
        "id": "xT81XSq6nRbQ",
        "outputId": "b9fd6ef2-4888-4381-84af-b38a0c236ee4"
      },
      "execution_count": 11,
      "outputs": [
        {
          "output_type": "stream",
          "name": "stdout",
          "text": [
            "\u001b[0m\u001b[01;34misl_gospel_videos\u001b[0m/  \u001b[01;34mmodels\u001b[0m/  \u001b[01;34msample_data\u001b[0m/\n"
          ]
        }
      ]
    },
    {
      "cell_type": "markdown",
      "source": [
        "## Set up code"
      ],
      "metadata": {
        "id": "CU3amJLujZND"
      }
    },
    {
      "cell_type": "code",
      "source": [
        "! mkdir /content/logs"
      ],
      "metadata": {
        "id": "4cAOwwfVnLg3"
      },
      "execution_count": 12,
      "outputs": []
    },
    {
      "cell_type": "code",
      "execution_count": 13,
      "metadata": {
        "id": "G7WZPRgbcKo6"
      },
      "outputs": [],
      "source": [
        "! mkdir /content/dwpose_output"
      ]
    },
    {
      "cell_type": "code",
      "source": [
        "! git clone https://github.com/kavitharaju/sign-bibles-dataset.git"
      ],
      "metadata": {
        "id": "MCOERU94jYm5"
      },
      "execution_count": null,
      "outputs": []
    },
    {
      "cell_type": "code",
      "execution_count": 15,
      "metadata": {
        "id": "1w7I3JtjcKw4",
        "colab": {
          "base_uri": "https://localhost:8080/"
        },
        "outputId": "507d3fa0-f2c4-434b-e0a5-1437245d6dc9"
      },
      "outputs": [
        {
          "output_type": "stream",
          "name": "stdout",
          "text": [
            "/content/sign-bibles-dataset/dataprep/isl\n"
          ]
        }
      ],
      "source": [
        "cd /content/sign-bibles-dataset/dataprep/isl/"
      ]
    },
    {
      "cell_type": "code",
      "source": [
        "! ls /content/sign-bibles-dataset/dataprep/isl"
      ],
      "metadata": {
        "id": "P_j0XnDtkRY9"
      },
      "execution_count": null,
      "outputs": []
    },
    {
      "cell_type": "code",
      "execution_count": 17,
      "metadata": {
        "id": "Pr-Zgh6-cKrY",
        "colab": {
          "base_uri": "https://localhost:8080/"
        },
        "outputId": "5acbd4c2-cc01-46b5-cf9e-54c6c385887b"
      },
      "outputs": [
        {
          "output_type": "stream",
          "name": "stdout",
          "text": [
            "Switched to a new branch 'separate-pipelines-4-GPU-CPU'\n"
          ]
        }
      ],
      "source": [
        "!git checkout -b separate-pipelines-4-GPU-CPU"
      ]
    },
    {
      "cell_type": "code",
      "execution_count": null,
      "metadata": {
        "id": "Pdj82jdGcK17"
      },
      "outputs": [],
      "source": [
        "!git pull origin separate-pipelines-4-GPU-CPU"
      ]
    },
    {
      "cell_type": "code",
      "source": [
        "!apt-get update && apt-get install -y parallel"
      ],
      "metadata": {
        "collapsed": true,
        "id": "fOl1Bud2qHqk"
      },
      "execution_count": null,
      "outputs": []
    },
    {
      "cell_type": "code",
      "source": [
        "!parallel --version"
      ],
      "metadata": {
        "colab": {
          "base_uri": "https://localhost:8080/"
        },
        "collapsed": true,
        "id": "3SBycSh-p38M",
        "outputId": "074eb937-95a4-44ed-ed01-c2867ca434b5"
      },
      "execution_count": 20,
      "outputs": [
        {
          "output_type": "stream",
          "name": "stdout",
          "text": [
            "GNU parallel 20210822\n",
            "Copyright (C) 2007-2021 Ole Tange, http://ole.tange.dk and Free Software\n",
            "Foundation, Inc.\n",
            "License GPLv3+: GNU GPL version 3 or later <https://gnu.org/licenses/gpl.html>\n",
            "This is free software: you are free to change and redistribute it.\n",
            "GNU parallel comes with no warranty.\n",
            "\n",
            "Web site: https://www.gnu.org/software/parallel\n",
            "\n",
            "When using programs that use GNU Parallel to process data for publication\n",
            "please cite as described in the manpage.\n"
          ]
        }
      ]
    },
    {
      "cell_type": "code",
      "source": [],
      "metadata": {
        "id": "aEn58X3maQEV"
      },
      "execution_count": 20,
      "outputs": []
    },
    {
      "cell_type": "code",
      "source": [
        "! pip install -r requirements-dwpose-on_GPU.txt"
      ],
      "metadata": {
        "collapsed": true,
        "id": "d2zf9u_Zky4K"
      },
      "execution_count": null,
      "outputs": []
    },
    {
      "cell_type": "markdown",
      "source": [
        "## Run data processing"
      ],
      "metadata": {
        "id": "9yjuSGxwctGR"
      }
    },
    {
      "cell_type": "code",
      "source": [
        "!ls /content/isl_gospel_videos/*.mp4 | xargs -n 1 basename -s .mp4 > full_input_list.txt"
      ],
      "metadata": {
        "id": "qIWT8mnQdCH6"
      },
      "execution_count": 22,
      "outputs": []
    },
    {
      "cell_type": "code",
      "source": [
        "! sed -n '1,50p' full_input_list.txt > input_list.txt"
      ],
      "metadata": {
        "id": "U-EeGxmxeRav"
      },
      "execution_count": 23,
      "outputs": []
    },
    {
      "cell_type": "code",
      "source": [
        "!time(bash run_parallel_gpu.sh)"
      ],
      "metadata": {
        "collapsed": true,
        "id": "K8yvrBRTohzP"
      },
      "execution_count": null,
      "outputs": []
    },
    {
      "cell_type": "code",
      "source": [
        "cat /content/logs/success.log"
      ],
      "metadata": {
        "collapsed": true,
        "id": "4yYRB8yUohdx"
      },
      "execution_count": null,
      "outputs": []
    },
    {
      "cell_type": "code",
      "source": [],
      "metadata": {
        "id": "ylhAeuhHgUlD"
      },
      "execution_count": null,
      "outputs": []
    },
    {
      "cell_type": "markdown",
      "source": [
        "## Upload outputs"
      ],
      "metadata": {
        "id": "Dcr1-dYkdPNN"
      }
    },
    {
      "cell_type": "code",
      "source": [
        "pwd"
      ],
      "metadata": {
        "colab": {
          "base_uri": "https://localhost:8080/",
          "height": 35
        },
        "id": "EtiChvKuprKU",
        "outputId": "ee0c8f3e-e593-4573-e9d5-1da4d819b703"
      },
      "execution_count": 27,
      "outputs": [
        {
          "output_type": "execute_result",
          "data": {
            "text/plain": [
              "'/content/sign-bibles-dataset/dataprep/isl'"
            ],
            "application/vnd.google.colaboratory.intrinsic+json": {
              "type": "string"
            }
          },
          "metadata": {},
          "execution_count": 27
        }
      ]
    },
    {
      "cell_type": "code",
      "source": [
        "! ls /content/dwpose_output | wc"
      ],
      "metadata": {
        "id": "fV3rAs2fx8Er"
      },
      "execution_count": null,
      "outputs": []
    },
    {
      "cell_type": "code",
      "source": [],
      "metadata": {
        "id": "HW0Ea4XcJV4n"
      },
      "execution_count": null,
      "outputs": []
    },
    {
      "cell_type": "code",
      "source": [
        "! aws s3 cp /content/dwpose_output/ s3://921c05b3-8e02-4c0b-9623-d1de39939163/outputs/ --recursive --endpoint-url=https://files.us-east-3.lambda.ai  --exclude \"*\" --include \"*.npz\""
      ],
      "metadata": {
        "collapsed": true,
        "id": "K3lM7PZtFaVZ"
      },
      "execution_count": null,
      "outputs": []
    },
    {
      "cell_type": "code",
      "source": [
        "! aws s3 ls s3://921c05b3-8e02-4c0b-9623-d1de39939163/outputs/ --endpoint-url=https://files.us-east-3.lambda.ai | wc"
      ],
      "metadata": {
        "colab": {
          "base_uri": "https://localhost:8080/"
        },
        "id": "O4n2njjNIS9W",
        "outputId": "f20c7781-c9a9-4cf7-fde1-0c2e87956b63"
      },
      "execution_count": null,
      "outputs": [
        {
          "output_type": "stream",
          "name": "stdout",
          "text": [
            "   1138    4552   58080\n"
          ]
        }
      ]
    },
    {
      "cell_type": "code",
      "source": [
        "! rm  /content/dwpose_output/*"
      ],
      "metadata": {
        "id": "DPsQ-268iF84"
      },
      "execution_count": null,
      "outputs": []
    }
  ],
  "metadata": {
    "accelerator": "GPU",
    "colab": {
      "gpuType": "A100",
      "machine_shape": "hm",
      "provenance": []
    },
    "kernelspec": {
      "display_name": "Python 3",
      "name": "python3"
    },
    "language_info": {
      "name": "python"
    }
  },
  "nbformat": 4,
  "nbformat_minor": 0
}