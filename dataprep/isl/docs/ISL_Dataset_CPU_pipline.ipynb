{
  "cells": [
    {
      "cell_type": "markdown",
      "metadata": {
        "id": "EO1gl4CvcMR8"
      },
      "source": [
        "# ISL Dataprep\n",
        "## Run trimming, mediapipe pose estimation, metadata etc on downsampled videos"
      ]
    },
    {
      "cell_type": "code",
      "source": [
        "!nproc"
      ],
      "metadata": {
        "colab": {
          "base_uri": "https://localhost:8080/"
        },
        "id": "XEllPNa9Y6LN",
        "outputId": "7f918618-43d9-40c0-e37d-d2e18f4b8b28"
      },
      "execution_count": 1,
      "outputs": [
        {
          "output_type": "stream",
          "name": "stdout",
          "text": [
            "24\n"
          ]
        }
      ]
    },
    {
      "cell_type": "markdown",
      "source": [
        "## Set up data"
      ],
      "metadata": {
        "id": "n3pQDHLybitK"
      }
    },
    {
      "cell_type": "markdown",
      "metadata": {
        "id": "oYHqQZ1wce49"
      },
      "source": [
        "Data Source: Lambda filesystem\n",
        "  - bucket name: 921c05b3-8e02-4c0b-9623-d1de39939163\n",
        "  - region: us-east-3\n",
        "\n",
        "\n",
        "AWS creds needed:\n",
        "  - AWS_ACCESS_KEY_ID=9P7Q2ADQR5WPGY83629B\n",
        "  - AWS_SECRET_ACCESS_KEY=*********\n",
        "  - AWS_REGION=us-east-3\n",
        "  - S3_ENDPOINT_URL=\"https://files.us-east-3.lambda.ai\"\n",
        "\n",
        "Change the bucket and credentials when using a different instance. These are given as pattern reference."
      ]
    },
    {
      "cell_type": "code",
      "execution_count": null,
      "metadata": {
        "id": "h2NnwJyecIrU",
        "collapsed": true
      },
      "outputs": [],
      "source": [
        "!pip install awscli boto3"
      ]
    },
    {
      "cell_type": "code",
      "source": [
        "! aws --version"
      ],
      "metadata": {
        "colab": {
          "base_uri": "https://localhost:8080/"
        },
        "id": "JMqsJlzpHmIr",
        "outputId": "ffe6fc6a-6bb7-4dba-b929-4cc8ee40c516"
      },
      "execution_count": 3,
      "outputs": [
        {
          "output_type": "stream",
          "name": "stdout",
          "text": [
            "aws-cli/1.42.39 Python/3.12.11 Linux/6.6.97+ botocore/1.40.39\n"
          ]
        }
      ]
    },
    {
      "cell_type": "code",
      "execution_count": 4,
      "metadata": {
        "id": "oQi49VlTcKbH"
      },
      "outputs": [],
      "source": [
        "import os\n",
        "os.environ['AWS_ACCESS_KEY_ID'] = 'C0INV916QMS8WB9F104E'\n",
        "os.environ['AWS_SECRET_ACCESS_KEY'] = '******'\n",
        "os.environ['AWS_DEFAULT_REGION'] = 'us-east-3'"
      ]
    },
    {
      "cell_type": "code",
      "source": [
        "! aws configure"
      ],
      "metadata": {
        "id": "kFiiKQfeK8gS"
      },
      "execution_count": null,
      "outputs": []
    },
    {
      "cell_type": "code",
      "source": [
        "!echo \"[default]\" > ~/.aws/config\n",
        "!echo \"region =us-east-3 \" >> ~/.aws/config\n",
        "!echo \"endpoint-url =https://files.us-east-3.lambda.ai \" >> ~/.aws/config\n",
        "!echo \"\" >> ~/.aws/config\n",
        "\n",
        "\n",
        "!echo \"request_checksum_calculation =when_required \" >> ~/.aws/config\n",
        "!echo \"response_checksum_validation =when_required \" >> ~/.aws/config\n",
        "!echo \"\" >> ~/.aws/config\n"
      ],
      "metadata": {
        "id": "pFdIW4zdLuXG"
      },
      "execution_count": 6,
      "outputs": []
    },
    {
      "cell_type": "code",
      "source": [
        "cat ~/.aws/config"
      ],
      "metadata": {
        "colab": {
          "base_uri": "https://localhost:8080/"
        },
        "id": "LpoOK2VFLOsd",
        "outputId": "4b00c5d3-0a76-4e52-bb2a-0aad097e0c14"
      },
      "execution_count": 7,
      "outputs": [
        {
          "output_type": "stream",
          "name": "stdout",
          "text": [
            "[default]\n",
            "region =us-east-3 \n",
            "endpoint-url =https://files.us-east-3.lambda.ai \n",
            "\n",
            "request_checksum_calculation =when_required \n",
            "response_checksum_validation =when_required \n",
            "\n"
          ]
        }
      ]
    },
    {
      "cell_type": "code",
      "source": [],
      "metadata": {
        "id": "5v3Y2dH-m4Hq"
      },
      "execution_count": null,
      "outputs": []
    },
    {
      "cell_type": "code",
      "execution_count": 8,
      "metadata": {
        "id": "raWZpLt7cKeX",
        "colab": {
          "base_uri": "https://localhost:8080/"
        },
        "outputId": "6ec3773d-b85f-4846-bccb-6109f0f0d600"
      },
      "outputs": [
        {
          "output_type": "stream",
          "name": "stdout",
          "text": [
            "                           PRE islNTvideos/\n",
            "                           PRE isl_gospel_videos/\n",
            "                           PRE outputs/\n"
          ]
        }
      ],
      "source": [
        "!aws s3 ls s3://6a8e9853-8a1d-4662-9fa6-be70cced7c34/ --endpoint-url https://files.us-east-3.lambda.ai"
      ]
    },
    {
      "cell_type": "code",
      "execution_count": null,
      "metadata": {
        "id": "Ir5DEWkHcKhG"
      },
      "outputs": [],
      "source": [
        "!aws s3 cp s3://6a8e9853-8a1d-4662-9fa6-be70cced7c34/islNTvideos/ /content/islNTvideos --recursive --endpoint-url https://files.us-east-3.lambda.ai"
      ]
    },
    {
      "cell_type": "code",
      "execution_count": null,
      "metadata": {
        "id": "VLcl6MJlcKj3"
      },
      "outputs": [],
      "source": []
    },
    {
      "cell_type": "code",
      "execution_count": null,
      "metadata": {
        "id": "7IdT7SDccKmY",
        "colab": {
          "base_uri": "https://localhost:8080/"
        },
        "outputId": "a4d15a9b-7c48-4ee6-9e7a-3f6abf1f0199"
      },
      "outputs": [
        {
          "output_type": "stream",
          "name": "stdout",
          "text": [
            "Filesystem      Size  Used Avail Use% Mounted on\n",
            "overlay         226G   40G  187G  18% /\n"
          ]
        }
      ],
      "source": [
        "! df -h /"
      ]
    },
    {
      "cell_type": "code",
      "source": [
        "ls /content/"
      ],
      "metadata": {
        "colab": {
          "base_uri": "https://localhost:8080/"
        },
        "id": "xT81XSq6nRbQ",
        "outputId": "f9ee2afb-50c5-475b-fb3f-98e3816e9793"
      },
      "execution_count": null,
      "outputs": [
        {
          "output_type": "stream",
          "name": "stdout",
          "text": [
            "1217.transcripts.json  \u001b[0m\u001b[01;34mislNTvideos\u001b[0m/  \u001b[01;34mmp4s\u001b[0m/     \u001b[01;34msample_data\u001b[0m/\n",
            "\u001b[01;34medited_jsons\u001b[0m/          \u001b[01;34mjsons\u001b[0m/        \u001b[01;34moutputs\u001b[0m/  \u001b[01;34msign-bibles-dataset\u001b[0m/\n"
          ]
        }
      ]
    },
    {
      "cell_type": "code",
      "source": [
        "ls /content/islNTvideos/*/*/*.MP4 | wc"
      ],
      "metadata": {
        "id": "KP_vyAblUEg6",
        "colab": {
          "base_uri": "https://localhost:8080/"
        },
        "outputId": "b1bf7d40-9a0d-4bc8-f967-4a0917147ed5"
      },
      "execution_count": null,
      "outputs": [
        {
          "output_type": "stream",
          "name": "stdout",
          "text": [
            "    855    1696   40930\n"
          ]
        }
      ]
    },
    {
      "cell_type": "code",
      "source": [
        "ls /content/islNTvideos/*/*.MP4 | wc"
      ],
      "metadata": {
        "colab": {
          "base_uri": "https://localhost:8080/"
        },
        "id": "fhe1qMfoRh7e",
        "outputId": "ec23ff17-8d43-4011-f8b2-85d728aa3923"
      },
      "execution_count": null,
      "outputs": [
        {
          "output_type": "stream",
          "name": "stdout",
          "text": [
            "     17      34     744\n"
          ]
        }
      ]
    },
    {
      "cell_type": "code",
      "source": [
        "ls /content/islNTvideos/*/*/*.mp4 | wc"
      ],
      "metadata": {
        "colab": {
          "base_uri": "https://localhost:8080/"
        },
        "id": "RHuPYRDYRpkR",
        "outputId": "b48dc44e-a909-4ac9-f7db-0963244d1c6a"
      },
      "execution_count": null,
      "outputs": [
        {
          "output_type": "stream",
          "name": "stdout",
          "text": [
            "      1       3      55\n"
          ]
        }
      ]
    },
    {
      "cell_type": "code",
      "source": [
        "mkdir /content/islNTvideos/Jude/CH-1"
      ],
      "metadata": {
        "id": "42tyDrIsSVHT"
      },
      "execution_count": null,
      "outputs": []
    },
    {
      "cell_type": "code",
      "source": [
        "mv /content/islNTvideos/Jude/*.MP4 /content/islNTvideos/Jude/CH-1/"
      ],
      "metadata": {
        "id": "wZgX4TsmShZP"
      },
      "execution_count": null,
      "outputs": []
    },
    {
      "cell_type": "code",
      "source": [
        "mv /content/islNTvideos/Hebrews/*.MP4 /content/islNTvideos/Hebrews/CH-13/"
      ],
      "metadata": {
        "id": "16o-aQGlSyRU"
      },
      "execution_count": null,
      "outputs": []
    },
    {
      "cell_type": "code",
      "source": [
        "mv '/content/islNTvideos/1-Thessalonians/3 Ch/V- 11-13.mp4' '/content/islNTvideos/1-Thessalonians/3 Ch/V- 11-13.MP4'"
      ],
      "metadata": {
        "id": "QvkFsxcnTGY2"
      },
      "execution_count": null,
      "outputs": []
    },
    {
      "cell_type": "code",
      "source": [
        "mv \"/content/islNTvideos/Acts/Ch 27/Ch 27, V=-18-20.MP4\" \"/content/islNTvideos/Acts/Ch 27/Ch 27, V=18-20.MP4\""
      ],
      "metadata": {
        "id": "25uQG-QWkYje"
      },
      "execution_count": null,
      "outputs": []
    },
    {
      "cell_type": "code",
      "source": [
        "ls /content/islNTvideos/*/*/*.MP4 | wc"
      ],
      "metadata": {
        "colab": {
          "base_uri": "https://localhost:8080/"
        },
        "id": "1bKfIE7cSJ8_",
        "outputId": "40fc1e6a-50df-4cfa-9a0c-c5dd36b5fcec"
      },
      "execution_count": null,
      "outputs": [
        {
          "output_type": "stream",
          "name": "stdout",
          "text": [
            "    870    1730   41681\n"
          ]
        }
      ]
    },
    {
      "cell_type": "markdown",
      "source": [
        "## Inspect Data"
      ],
      "metadata": {
        "id": "12MG9qSJKplW"
      }
    },
    {
      "cell_type": "code",
      "source": [
        "! aws s3 ls s3://6a8e9853-8a1d-4662-9fa6-be70cced7c34/islNTvideos/Galatians/CH-3/ --endpoint-url https://files.us-east-3.lambda.ai"
      ],
      "metadata": {
        "id": "bwNgKj1OOErk"
      },
      "execution_count": null,
      "outputs": []
    },
    {
      "cell_type": "code",
      "source": [
        "!aws s3 cp s3://6a8e9853-8a1d-4662-9fa6-be70cced7c34/islNTvideos/Hebrews/ /content/islNTvideos/  --recursive --endpoint-url https://files.us-east-3.lambda.ai --exclude \"*\" --include \"20-21*\""
      ],
      "metadata": {
        "colab": {
          "base_uri": "https://localhost:8080/"
        },
        "id": "xhjCmFRpNCQY",
        "outputId": "ba7507ae-22d0-4c54-9607-868a3de649ac"
      },
      "execution_count": 100,
      "outputs": [
        {
          "output_type": "stream",
          "name": "stdout",
          "text": [
            "download: s3://6a8e9853-8a1d-4662-9fa6-be70cced7c34/islNTvideos/Hebrews/20-21.MP4 to islNTvideos/20-21.MP4\n"
          ]
        }
      ]
    },
    {
      "cell_type": "code",
      "source": [
        "from IPython.display import Video\n",
        "\n",
        "# Replace with the actual path to one of your downloaded MP4 files\n",
        "video_path = '/content/islNTvideos/22-25_within.MP4'\n",
        "display(Video(video_path, embed=True, width=480)) # Assuming original width is around 960, setting to 50%"
      ],
      "metadata": {
        "id": "dPvzaQkBsSE0"
      },
      "execution_count": null,
      "outputs": []
    },
    {
      "cell_type": "code",
      "source": [
        "video_path = '/content/islNTvideos/22-25.MP4'\n",
        "display(Video(video_path, embed=True, width=480))"
      ],
      "metadata": {
        "id": "AIYevQM1AiGs"
      },
      "execution_count": null,
      "outputs": []
    },
    {
      "cell_type": "code",
      "source": [
        "from IPython.display import Video\n",
        "video_path = '/content/outputs/1118.mp4'\n",
        "display(Video(video_path, embed=True, width=480))"
      ],
      "metadata": {
        "id": "Ru3Ma1HzCQjv"
      },
      "execution_count": null,
      "outputs": []
    },
    {
      "cell_type": "code",
      "source": [
        "from IPython.display import Video\n",
        "video_path = '/content/outputs/1119.mp4'\n",
        "display(Video(video_path, embed=True, width=480))"
      ],
      "metadata": {
        "id": "rwal9wCLPiYe"
      },
      "execution_count": null,
      "outputs": []
    },
    {
      "cell_type": "code",
      "source": [
        "import os\n",
        "import cv2\n",
        "import glob\n",
        "\n",
        "input_dir = '/content/islNTvideos'\n",
        "output_dir = '/content/video_frames'\n",
        "os.makedirs(output_dir, exist_ok=True)\n",
        "\n",
        "video_files = glob.glob(f'{input_dir}/*/*/*.MP4') + glob.glob(f'{input_dir}/*/*/*.mp4')\n",
        "\n",
        "for video_path in video_files:\n",
        "    try:\n",
        "        cap = cv2.VideoCapture(video_path)\n",
        "        if not cap.isOpened():\n",
        "            print(f\"Error opening video file: {video_path}\")\n",
        "            continue\n",
        "\n",
        "        # Get the total number of frames\n",
        "        total_frames = int(cap.get(cv2.CAP_PROP_FRAME_COUNT))\n",
        "\n",
        "        # Check if the video has at least 200 frames\n",
        "        if total_frames < 200:\n",
        "            print(f\"Video has less than 200 frames, skipping: {video_path}\")\n",
        "            cap.release()\n",
        "            continue\n",
        "\n",
        "        # Set the frame position to the 200th frame (0-indexed)\n",
        "        cap.set(cv2.CAP_PROP_POS_FRAMES, 199)\n",
        "\n",
        "        ret, frame = cap.read()\n",
        "\n",
        "        if ret:\n",
        "            # Resize the frame to 128x128\n",
        "            resized_frame = cv2.resize(frame, (128, 128))\n",
        "\n",
        "            # Create the output filename\n",
        "            book_chapter = video_path.replace(input_dir + '/', '').replace('.MP4', '').replace('.mp4', '')\n",
        "            output_filename = f\"{book_chapter.replace('/', '_')}_frame_200.jpg\"\n",
        "            output_path = os.path.join(output_dir, output_filename)\n",
        "\n",
        "            # Save the frame\n",
        "            cv2.imwrite(output_path, resized_frame)\n",
        "            print(f\"Saved frame 200 from {video_path} to {output_path}\")\n",
        "        else:\n",
        "            print(f\"Could not read frame 200 from {video_path}\")\n",
        "\n",
        "        cap.release()\n",
        "\n",
        "    except Exception as e:\n",
        "        print(f\"An error occurred processing {video_path}: {e}\")\n",
        "\n",
        "print(\"Finished processing videos.\")"
      ],
      "metadata": {
        "id": "G2KPFNI01nva"
      },
      "execution_count": null,
      "outputs": []
    },
    {
      "cell_type": "code",
      "source": [
        "ls /content/video_frames/* |wc"
      ],
      "metadata": {
        "colab": {
          "base_uri": "https://localhost:8080/"
        },
        "id": "5fTWnV7c3YEp",
        "outputId": "9b601647-0f27-47b2-8f45-219b2d11ff8f"
      },
      "execution_count": null,
      "outputs": [
        {
          "output_type": "stream",
          "name": "stdout",
          "text": [
            "    870    1730   51251\n"
          ]
        }
      ]
    },
    {
      "cell_type": "code",
      "source": [
        "from IPython.display import Image\n",
        "Image(filename='/content/video_frames/1-Timothy_Ch- 1_v- 15-20 (Re-sign)_frame_200.jpg')"
      ],
      "metadata": {
        "id": "x0PLu0Y-7_d_"
      },
      "execution_count": null,
      "outputs": []
    },
    {
      "cell_type": "code",
      "source": [
        "Image(filename='/content/video_frames/Philemon_Ch-1_8-11_frame_200.jpg')"
      ],
      "metadata": {
        "id": "N7wGZnWS_pPQ"
      },
      "execution_count": null,
      "outputs": []
    },
    {
      "cell_type": "code",
      "source": [
        "import os\n",
        "import glob\n",
        "from IPython.display import display, clear_output\n",
        "from ipywidgets import Button, VBox, Layout, Image\n",
        "from google.colab import output\n",
        "\n",
        "image_dir = '/content/video_frames'\n",
        "image_files = glob.glob(f'{image_dir}/*.jpg')\n",
        "\n",
        "# Group images by book name\n",
        "image_groups = {}\n",
        "for image_path in image_files:\n",
        "    filename = os.path.basename(image_path)\n",
        "    book_name = filename.split('_')[0]\n",
        "    if book_name not in image_groups:\n",
        "        image_groups[book_name] = []\n",
        "    image_groups[book_name].append(image_path)\n",
        "\n",
        "book_names = list(image_groups.keys())\n",
        "book_names.sort() # Sort book names alphabetically\n",
        "current_book_index = 0\n",
        "\n",
        "def display_book_images(book_name):\n",
        "    clear_output(wait=True)\n",
        "    print(f\"Book: {book_name}\")\n",
        "    images = image_groups[book_name]\n",
        "    # Display images in a grid-like manner (adjust columns as needed)\n",
        "    # Create ipywidgets.Image instances\n",
        "    image_widgets = [Image(value=open(img, 'rb').read(), width=128, height=128) for img in images]\n",
        "    for i in range(0, len(image_widgets), 8): # Display 8 images per row\n",
        "        row_images = image_widgets[i:i+8]\n",
        "        display(VBox(row_images, layout=Layout(flex_flow='row wrap')))\n",
        "\n",
        "    # Display the button after showing images for the current book\n",
        "    if current_book_index < len(book_names) - 1:\n",
        "        button = Button(description=\"Next Book\")\n",
        "        button.on_click(on_button_clicked)\n",
        "        display(button)\n",
        "    else:\n",
        "        print(\"Finished displaying all books.\")\n",
        "\n",
        "\n",
        "def on_button_clicked(b):\n",
        "    global current_book_index\n",
        "    current_book_index += 1\n",
        "    if current_book_index < len(book_names):\n",
        "        display_book_images(book_names[current_book_index])\n",
        "\n",
        "\n",
        "if book_names:\n",
        "    display_book_images(book_names[current_book_index])\n",
        "\n",
        "else:\n",
        "    print(\"No images found in the specified directory.\")"
      ],
      "metadata": {
        "id": "05JrO6-O3b0g"
      },
      "execution_count": null,
      "outputs": []
    },
    {
      "cell_type": "code",
      "source": [],
      "metadata": {
        "id": "D7zKkT4p3dbQ"
      },
      "execution_count": null,
      "outputs": []
    },
    {
      "cell_type": "markdown",
      "source": [
        "## Set up code"
      ],
      "metadata": {
        "id": "CU3amJLujZND"
      }
    },
    {
      "cell_type": "code",
      "source": [
        "! mkdir /content/logs"
      ],
      "metadata": {
        "id": "4cAOwwfVnLg3"
      },
      "execution_count": null,
      "outputs": []
    },
    {
      "cell_type": "code",
      "source": [
        "! mkdir /content/temp"
      ],
      "metadata": {
        "id": "8IFr4KEUhiVS"
      },
      "execution_count": null,
      "outputs": []
    },
    {
      "cell_type": "code",
      "execution_count": null,
      "metadata": {
        "id": "G7WZPRgbcKo6"
      },
      "outputs": [],
      "source": [
        "! mkdir /content/dataprep_output"
      ]
    },
    {
      "cell_type": "code",
      "source": [
        "! git clone https://github.com/kavitharaju/sign-bibles-dataset.git"
      ],
      "metadata": {
        "id": "MCOERU94jYm5",
        "colab": {
          "base_uri": "https://localhost:8080/"
        },
        "outputId": "7f3504fc-ae26-486b-a971-6a1c059b8b0b"
      },
      "execution_count": null,
      "outputs": [
        {
          "output_type": "stream",
          "name": "stdout",
          "text": [
            "Cloning into 'sign-bibles-dataset'...\n",
            "remote: Enumerating objects: 971, done.\u001b[K\n",
            "remote: Counting objects: 100% (221/221), done.\u001b[K\n",
            "remote: Compressing objects: 100% (151/151), done.\u001b[K\n",
            "remote: Total 971 (delta 78), reused 81 (delta 70), pack-reused 750 (from 2)\u001b[K\n",
            "Receiving objects: 100% (971/971), 4.77 MiB | 28.88 MiB/s, done.\n",
            "Resolving deltas: 100% (512/512), done.\n"
          ]
        }
      ]
    },
    {
      "cell_type": "code",
      "execution_count": null,
      "metadata": {
        "id": "1w7I3JtjcKw4",
        "colab": {
          "base_uri": "https://localhost:8080/"
        },
        "outputId": "bc66cdb8-4da3-482a-8c3e-b312d83eb488"
      },
      "outputs": [
        {
          "output_type": "stream",
          "name": "stdout",
          "text": [
            "/content/sign-bibles-dataset/dataprep/isl\n"
          ]
        }
      ],
      "source": [
        "cd /content/sign-bibles-dataset/dataprep/isl/"
      ]
    },
    {
      "cell_type": "code",
      "source": [
        "! ls /content/sign-bibles-dataset/dataprep/isl"
      ],
      "metadata": {
        "id": "P_j0XnDtkRY9",
        "colab": {
          "base_uri": "https://localhost:8080/"
        },
        "outputId": "feef1895-49da-427b-cddc-beb815f0162f"
      },
      "execution_count": null,
      "outputs": [
        {
          "output_type": "stream",
          "name": "stdout",
          "text": [
            "biblenlp_util.py\t   pose_format_util.py\n",
            "bible_text_access.py\t   prep_BSB_bible.py\n",
            "BSB_bible.json\t\t   prep_ERV_bible.py\n",
            "compare_bible_versions.py  __pycache__\n",
            "dataset_README.md\t   README.md\n",
            "dataset_stats.json\t   requirements-CPU-only.txt\n",
            "docs\t\t\t   requirements-dwpose-on_GPU.txt\n",
            "duration_calculation.py    requirements-local-ffmpeg.txt\n",
            "dwpose\t\t\t   requirements_mp.txt\n",
            "dwpose_processing.py\t   requirements.txt\n",
            "edit_data_files.py\t   run_parallel_cpu.sh\n",
            "ERV_bible.json\t\t   run_parallel_gpu.sh\n",
            "ffmpeg_downsample.py\t   run_parallel_mp.sh\n",
            "isl_bible_processing.py    s3_connect.py\n",
            "isl_dict_processing.py\t   test_lambda.yaml\n",
            "make_tar_files.py\t   test_webdataset.py\n",
            "mediapipe_trim.py\t   video_id_list.py\n",
            "mp_processing.py\t   WEB_bible.json\n",
            "nextcloud_connect.py\n"
          ]
        }
      ]
    },
    {
      "cell_type": "code",
      "execution_count": null,
      "metadata": {
        "id": "Pr-Zgh6-cKrY",
        "colab": {
          "base_uri": "https://localhost:8080/"
        },
        "outputId": "ff549b27-5b0f-4899-acde-ced2409c0ab2"
      },
      "outputs": [
        {
          "output_type": "stream",
          "name": "stdout",
          "text": [
            "Switched to a new branch 'ISL-NT-corrections'\n"
          ]
        }
      ],
      "source": [
        "!git checkout -b ISL-NT-corrections"
      ]
    },
    {
      "cell_type": "code",
      "source": [
        "!apt-get update && apt-get install -y parallel"
      ],
      "metadata": {
        "collapsed": true,
        "id": "fOl1Bud2qHqk",
        "colab": {
          "base_uri": "https://localhost:8080/"
        },
        "outputId": "08d1a548-2e19-41de-b279-4500e714d18b"
      },
      "execution_count": null,
      "outputs": [
        {
          "output_type": "stream",
          "name": "stdout",
          "text": [
            "\r0% [Working]\r            \rHit:1 http://archive.ubuntu.com/ubuntu jammy InRelease\n",
            "\r0% [Waiting for headers] [Connected to cloud.r-project.org (108.157.173.89)] [C\r                                                                               \rGet:2 http://archive.ubuntu.com/ubuntu jammy-updates InRelease [128 kB]\n",
            "\r                                                                               \rGet:3 http://security.ubuntu.com/ubuntu jammy-security InRelease [129 kB]\n",
            "\r0% [2 InRelease 15.6 kB/128 kB 12%] [3 InRelease 25.8 kB/129 kB 20%] [Waiting f\r                                                                               \rGet:4 https://cli.github.com/packages stable InRelease [3,917 B]\n",
            "\r0% [2 InRelease 15.6 kB/128 kB 12%] [3 InRelease 38.8 kB/129 kB 30%] [Waiting f\r0% [2 InRelease 15.6 kB/128 kB 12%] [3 InRelease 41.7 kB/129 kB 32%] [Waiting f\r                                                                               \rGet:5 https://cloud.r-project.org/bin/linux/ubuntu jammy-cran40/ InRelease [3,632 B]\n",
            "Hit:6 https://developer.download.nvidia.com/compute/cuda/repos/ubuntu2204/x86_64  InRelease\n",
            "Get:7 http://archive.ubuntu.com/ubuntu jammy-backports InRelease [127 kB]\n",
            "Get:8 https://r2u.stat.illinois.edu/ubuntu jammy InRelease [6,555 B]\n",
            "Get:9 https://cli.github.com/packages stable/main amd64 Packages [346 B]\n",
            "Hit:10 https://ppa.launchpadcontent.net/deadsnakes/ppa/ubuntu jammy InRelease\n",
            "Hit:11 https://ppa.launchpadcontent.net/graphics-drivers/ppa/ubuntu jammy InRelease\n",
            "Get:12 http://security.ubuntu.com/ubuntu jammy-security/restricted amd64 Packages [5,526 kB]\n",
            "Hit:13 https://ppa.launchpadcontent.net/ubuntugis/ppa/ubuntu jammy InRelease\n",
            "Get:14 http://archive.ubuntu.com/ubuntu jammy-updates/main amd64 Packages [3,681 kB]\n",
            "Get:15 http://security.ubuntu.com/ubuntu jammy-security/universe amd64 Packages [1,274 kB]\n",
            "Get:16 http://security.ubuntu.com/ubuntu jammy-security/main amd64 Packages [3,336 kB]\n",
            "Get:17 http://archive.ubuntu.com/ubuntu jammy-updates/restricted amd64 Packages [5,779 kB]\n",
            "Get:18 http://archive.ubuntu.com/ubuntu jammy-updates/universe amd64 Packages [1,577 kB]\n",
            "Get:19 https://r2u.stat.illinois.edu/ubuntu jammy/main amd64 Packages [2,807 kB]\n",
            "Get:20 https://r2u.stat.illinois.edu/ubuntu jammy/main all Packages [9,299 kB]\n",
            "Fetched 33.7 MB in 2s (14.6 MB/s)\n",
            "Reading package lists... Done\n",
            "W: Skipping acquire of configured file 'main/source/Sources' as repository 'https://r2u.stat.illinois.edu/ubuntu jammy InRelease' does not seem to provide it (sources.list entry misspelt?)\n",
            "Reading package lists... Done\n",
            "Building dependency tree... Done\n",
            "Reading state information... Done\n",
            "The following additional packages will be installed:\n",
            "  sysstat\n",
            "Suggested packages:\n",
            "  ash csh fish ksh tcsh zsh isag\n",
            "The following NEW packages will be installed:\n",
            "  parallel sysstat\n",
            "0 upgraded, 2 newly installed, 0 to remove and 43 not upgraded.\n",
            "Need to get 2,434 kB of archives.\n",
            "After this operation, 4,521 kB of additional disk space will be used.\n",
            "Get:1 http://archive.ubuntu.com/ubuntu jammy-updates/main amd64 sysstat amd64 12.5.2-2ubuntu0.2 [487 kB]\n",
            "Get:2 http://archive.ubuntu.com/ubuntu jammy/universe amd64 parallel all 20210822+ds-2 [1,947 kB]\n",
            "Fetched 2,434 kB in 1s (1,977 kB/s)\n",
            "Preconfiguring packages ...\n",
            "Selecting previously unselected package sysstat.\n",
            "(Reading database ... 126435 files and directories currently installed.)\n",
            "Preparing to unpack .../sysstat_12.5.2-2ubuntu0.2_amd64.deb ...\n",
            "Unpacking sysstat (12.5.2-2ubuntu0.2) ...\n",
            "Selecting previously unselected package parallel.\n",
            "Preparing to unpack .../parallel_20210822+ds-2_all.deb ...\n",
            "Adding 'diversion of /usr/bin/parallel to /usr/bin/parallel.moreutils by parallel'\n",
            "Adding 'diversion of /usr/share/man/man1/parallel.1.gz to /usr/share/man/man1/parallel.moreutils.1.gz by parallel'\n",
            "Unpacking parallel (20210822+ds-2) ...\n",
            "Setting up sysstat (12.5.2-2ubuntu0.2) ...\n",
            "\n",
            "Creating config file /etc/default/sysstat with new version\n",
            "update-alternatives: using /usr/bin/sar.sysstat to provide /usr/bin/sar (sar) in auto mode\n",
            "Created symlink /etc/systemd/system/sysstat.service.wants/sysstat-collect.timer → /lib/systemd/system/sysstat-collect.timer.\n",
            "Created symlink /etc/systemd/system/sysstat.service.wants/sysstat-summary.timer → /lib/systemd/system/sysstat-summary.timer.\n",
            "Created symlink /etc/systemd/system/multi-user.target.wants/sysstat.service → /lib/systemd/system/sysstat.service.\n",
            "Setting up parallel (20210822+ds-2) ...\n",
            "Processing triggers for man-db (2.10.2-1) ...\n"
          ]
        }
      ]
    },
    {
      "cell_type": "code",
      "source": [
        "!parallel --version"
      ],
      "metadata": {
        "collapsed": true,
        "id": "3SBycSh-p38M",
        "colab": {
          "base_uri": "https://localhost:8080/"
        },
        "outputId": "d297f089-8bae-4379-8a8f-186b049fa273"
      },
      "execution_count": null,
      "outputs": [
        {
          "output_type": "stream",
          "name": "stdout",
          "text": [
            "GNU parallel 20210822\n",
            "Copyright (C) 2007-2021 Ole Tange, http://ole.tange.dk and Free Software\n",
            "Foundation, Inc.\n",
            "License GPLv3+: GNU GPL version 3 or later <https://gnu.org/licenses/gpl.html>\n",
            "This is free software: you are free to change and redistribute it.\n",
            "GNU parallel comes with no warranty.\n",
            "\n",
            "Web site: https://www.gnu.org/software/parallel\n",
            "\n",
            "When using programs that use GNU Parallel to process data for publication\n",
            "please cite as described in the manpage.\n"
          ]
        }
      ]
    },
    {
      "cell_type": "code",
      "source": [],
      "metadata": {
        "id": "aEn58X3maQEV"
      },
      "execution_count": null,
      "outputs": []
    },
    {
      "cell_type": "code",
      "execution_count": null,
      "metadata": {
        "id": "Pdj82jdGcK17",
        "colab": {
          "base_uri": "https://localhost:8080/"
        },
        "outputId": "aaaa91ee-6659-4ea6-cb42-f9c98b4d3629"
      },
      "outputs": [
        {
          "output_type": "stream",
          "name": "stdout",
          "text": [
            "remote: Enumerating objects: 16, done.\u001b[K\n",
            "remote: Counting objects:   6% (1/16)\u001b[K\rremote: Counting objects:  12% (2/16)\u001b[K\rremote: Counting objects:  18% (3/16)\u001b[K\rremote: Counting objects:  25% (4/16)\u001b[K\rremote: Counting objects:  31% (5/16)\u001b[K\rremote: Counting objects:  37% (6/16)\u001b[K\rremote: Counting objects:  43% (7/16)\u001b[K\rremote: Counting objects:  50% (8/16)\u001b[K\rremote: Counting objects:  56% (9/16)\u001b[K\rremote: Counting objects:  62% (10/16)\u001b[K\rremote: Counting objects:  68% (11/16)\u001b[K\rremote: Counting objects:  75% (12/16)\u001b[K\rremote: Counting objects:  81% (13/16)\u001b[K\rremote: Counting objects:  87% (14/16)\u001b[K\rremote: Counting objects:  93% (15/16)\u001b[K\rremote: Counting objects: 100% (16/16)\u001b[K\rremote: Counting objects: 100% (16/16), done.\u001b[K\n",
            "remote: Compressing objects:  25% (1/4)\u001b[K\rremote: Compressing objects:  50% (2/4)\u001b[K\rremote: Compressing objects:  75% (3/4)\u001b[K\rremote: Compressing objects: 100% (4/4)\u001b[K\rremote: Compressing objects: 100% (4/4), done.\u001b[K\n",
            "remote: Total 11 (delta 7), reused 11 (delta 7), pack-reused 0 (from 0)\u001b[K\n",
            "Unpacking objects:   9% (1/11)\rUnpacking objects:  18% (2/11)\rUnpacking objects:  27% (3/11)\rUnpacking objects:  36% (4/11)\rUnpacking objects:  45% (5/11)\rUnpacking objects:  54% (6/11)\rUnpacking objects:  63% (7/11)\rUnpacking objects:  72% (8/11)\rUnpacking objects:  81% (9/11)\rUnpacking objects:  90% (10/11)\rUnpacking objects: 100% (11/11)\rUnpacking objects: 100% (11/11), 972 bytes | 324.00 KiB/s, done.\n",
            "From https://github.com/kavitharaju/sign-bibles-dataset\n",
            " * branch            ISL-NT-corrections -> FETCH_HEAD\n",
            " * [new branch]      ISL-NT-corrections -> origin/ISL-NT-corrections\n",
            "Updating 6dc6438..d13951b\n",
            "Fast-forward\n",
            " dataprep/isl/isl_bible_processing.py |  4 \u001b[32m++\u001b[m\u001b[31m--\u001b[m\n",
            " dataprep/isl/mediapipe_trim.py       | 17 \u001b[32m+++++\u001b[m\u001b[31m------------\u001b[m\n",
            " 2 files changed, 7 insertions(+), 14 deletions(-)\n"
          ]
        }
      ],
      "source": [
        "!git pull origin ISL-NT-corrections"
      ]
    },
    {
      "cell_type": "code",
      "source": [
        "! pip install -r requirements-CPU-only.txt"
      ],
      "metadata": {
        "collapsed": true,
        "id": "d2zf9u_Zky4K"
      },
      "execution_count": null,
      "outputs": []
    },
    {
      "cell_type": "code",
      "source": [
        "! git log"
      ],
      "metadata": {
        "collapsed": true,
        "id": "Uc6L2oFTUYHe"
      },
      "execution_count": null,
      "outputs": []
    },
    {
      "cell_type": "markdown",
      "source": [
        "## Run data processing"
      ],
      "metadata": {
        "id": "9yjuSGxwctGR"
      }
    },
    {
      "cell_type": "code",
      "source": [
        "! python video_id_list.py /content/islNTvideos/ 1114 > /content/input_list_full.txt"
      ],
      "metadata": {
        "id": "qIWT8mnQdCH6"
      },
      "execution_count": null,
      "outputs": []
    },
    {
      "cell_type": "code",
      "source": [],
      "metadata": {
        "id": "9rNlk2udLayz"
      },
      "execution_count": null,
      "outputs": []
    },
    {
      "cell_type": "code",
      "source": [
        "!sed -n '1,10p' /content/input_list_full.txt > /content/input_list.txt"
      ],
      "metadata": {
        "id": "AwfigQVNLpcE"
      },
      "execution_count": null,
      "outputs": []
    },
    {
      "cell_type": "code",
      "source": [
        "! tail /content/input_list.txt"
      ],
      "metadata": {
        "id": "U-EeGxmxeRav"
      },
      "execution_count": null,
      "outputs": []
    },
    {
      "cell_type": "code",
      "source": [
        "! cat /content/input_list.txt | wc"
      ],
      "metadata": {
        "collapsed": true,
        "id": "K8yvrBRTohzP"
      },
      "execution_count": null,
      "outputs": []
    },
    {
      "cell_type": "code",
      "source": [
        "! time(bash run_parallel_cpu.sh)"
      ],
      "metadata": {
        "id": "1upaW0NhiZSo"
      },
      "execution_count": null,
      "outputs": []
    },
    {
      "cell_type": "code",
      "source": [
        "cat /content/logs/success.log"
      ],
      "metadata": {
        "collapsed": true,
        "id": "4yYRB8yUohdx"
      },
      "execution_count": null,
      "outputs": []
    },
    {
      "cell_type": "code",
      "source": [],
      "metadata": {
        "id": "ylhAeuhHgUlD"
      },
      "execution_count": null,
      "outputs": []
    },
    {
      "cell_type": "markdown",
      "source": [
        "## Upload outputs"
      ],
      "metadata": {
        "id": "Dcr1-dYkdPNN"
      }
    },
    {
      "cell_type": "code",
      "source": [
        "pwd"
      ],
      "metadata": {
        "colab": {
          "base_uri": "https://localhost:8080/",
          "height": 35
        },
        "id": "EtiChvKuprKU",
        "outputId": "ee0c8f3e-e593-4573-e9d5-1da4d819b703"
      },
      "execution_count": null,
      "outputs": [
        {
          "output_type": "execute_result",
          "data": {
            "text/plain": [
              "'/content/sign-bibles-dataset/dataprep/isl'"
            ],
            "application/vnd.google.colaboratory.intrinsic+json": {
              "type": "string"
            }
          },
          "metadata": {},
          "execution_count": 27
        }
      ]
    },
    {
      "cell_type": "code",
      "source": [
        "! ls /content/dataprep_output | wc"
      ],
      "metadata": {
        "id": "fV3rAs2fx8Er",
        "colab": {
          "base_uri": "https://localhost:8080/"
        },
        "outputId": "2f3bee24-6173-4d9e-a266-f5964dc11e1c"
      },
      "execution_count": null,
      "outputs": [
        {
          "output_type": "stream",
          "name": "stdout",
          "text": [
            "   2040    2040   33660\n"
          ]
        }
      ]
    },
    {
      "cell_type": "code",
      "source": [],
      "metadata": {
        "id": "HW0Ea4XcJV4n"
      },
      "execution_count": null,
      "outputs": []
    },
    {
      "cell_type": "code",
      "source": [
        "! aws s3 cp /content/dataprep_output/ s3://6a8e9853-8a1d-4662-9fa6-be70cced7c34/outputs/ --recursive --endpoint-url=https://files.us-east-3.lambda.ai  #--exclude \"*\" --include \"*.npz\""
      ],
      "metadata": {
        "collapsed": true,
        "id": "K3lM7PZtFaVZ"
      },
      "execution_count": null,
      "outputs": []
    },
    {
      "cell_type": "code",
      "source": [
        "! aws s3 ls s3://6a8e9853-8a1d-4662-9fa6-be70cced7c34/outputs/ --endpoint-url=https://files.us-east-3.lambda.ai | wc"
      ],
      "metadata": {
        "colab": {
          "base_uri": "https://localhost:8080/"
        },
        "id": "O4n2njjNIS9W",
        "outputId": "a6748aea-13da-45ff-e247-bf086b78ef96"
      },
      "execution_count": null,
      "outputs": [
        {
          "output_type": "stream",
          "name": "stdout",
          "text": [
            "   3480   13920  165300\n"
          ]
        }
      ]
    },
    {
      "cell_type": "code",
      "source": [
        "! rm  /content/dataprep_output/*"
      ],
      "metadata": {
        "id": "DPsQ-268iF84"
      },
      "execution_count": null,
      "outputs": []
    },
    {
      "cell_type": "markdown",
      "source": [
        "## Post dataprep analysis"
      ],
      "metadata": {
        "id": "rS-iOaPzVVjh"
      }
    },
    {
      "cell_type": "code",
      "source": [],
      "metadata": {
        "id": "rPefYq2STAy8"
      },
      "execution_count": null,
      "outputs": []
    },
    {
      "cell_type": "markdown",
      "source": [
        "### Find duration"
      ],
      "metadata": {
        "id": "I3o0qMMjTF0I"
      }
    },
    {
      "cell_type": "code",
      "source": [
        "! aws s3 cp s3://6a8e9853-8a1d-4662-9fa6-be70cced7c34/outputs/ /content/jsons/  --recursive --endpoint-url=https://files.us-east-3.lambda.ai  --exclude \"*\" --include \"*.json\" --exclude \"*transcript*\""
      ],
      "metadata": {
        "id": "fvcgFvPCVVGp"
      },
      "execution_count": null,
      "outputs": []
    },
    {
      "cell_type": "code",
      "source": [
        "rm /content/jsons/*"
      ],
      "metadata": {
        "id": "Fj_kWj5hWSak"
      },
      "execution_count": null,
      "outputs": []
    },
    {
      "cell_type": "code",
      "source": [
        "ls /content/jsons/ | wc"
      ],
      "metadata": {
        "colab": {
          "base_uri": "https://localhost:8080/"
        },
        "id": "u2QR9_3bWYyD",
        "outputId": "52b5ec92-c66a-4c10-9942-fb82fe0f0e90"
      },
      "execution_count": null,
      "outputs": [
        {
          "output_type": "stream",
          "name": "stdout",
          "text": [
            "   1740    1740   27840\n"
          ]
        }
      ]
    },
    {
      "cell_type": "code",
      "source": [
        "! python duration_calculation.py /content/jsons/"
      ],
      "metadata": {
        "colab": {
          "base_uri": "https://localhost:8080/"
        },
        "id": "jkiglDfJWorO",
        "outputId": "b928b0dd-dc42-4aaa-cfb6-297d29c158d1"
      },
      "execution_count": null,
      "outputs": [
        {
          "output_type": "stream",
          "name": "stdout",
          "text": [
            "args.directories=['/content/jsons/']\n",
            "Total number of videos : 870\n",
            "total_seconds=69927.98000000001\n",
            "Total duration: 19 hours, 25 minutes, 27 seconds\n",
            "Total number of unique verses: 3201\n"
          ]
        }
      ]
    },
    {
      "cell_type": "markdown",
      "source": [
        "### Check bible reference list"
      ],
      "metadata": {
        "id": "AMsLND-8TQDu"
      }
    },
    {
      "cell_type": "code",
      "source": [
        "! aws s3 cp s3://6a8e9853-8a1d-4662-9fa6-be70cced7c34/outputs/ /content/jsons/  --recursive --endpoint-url=https://files.us-east-3.lambda.ai  --exclude \"*\" --include \"*.json\" --exclude \"*transcript*\""
      ],
      "metadata": {
        "id": "V3XmP1cWTPLb"
      },
      "execution_count": null,
      "outputs": []
    },
    {
      "cell_type": "code",
      "source": [
        "# list all samples in the order of vref for inspection(for missing refs, duplicates etc)\n",
        "\n",
        "import json\n",
        "from pathlib import Path\n",
        "\n",
        "verses = []\n",
        "for json_file in Path(\"/content/jsons/\").glob(\"*.json\"):\n",
        "    with open(json_file, \"r\") as f:\n",
        "        data = json.load(f)\n",
        "        ref = data[\"bible-ref\"]\n",
        "        vrefs = data[\"biblenlp-vref\"]\n",
        "        id = json_file.name.split(\"/\")[-1].split(\".\")[0]\n",
        "        for vref in vrefs:\n",
        "            verses.append((ref,vref, id))\n",
        "verses = sorted(verses, key=lambda x: x[1])\n",
        "for item in verses:\n",
        "  print(f\"{item[1]}   {item[0]}   {item[2]}\")\n",
        "\n"
      ],
      "metadata": {
        "id": "MA9rlwUbXdkX"
      },
      "execution_count": null,
      "outputs": []
    },
    {
      "cell_type": "markdown",
      "source": [
        "### Correct refs, vrefs and bible text in jsons"
      ],
      "metadata": {
        "id": "ETY_H3RBTXMO"
      }
    },
    {
      "cell_type": "code",
      "source": [
        "! aws s3 cp s3://6a8e9853-8a1d-4662-9fa6-be70cced7c34/outputs/ /content/jsons/  --recursive --endpoint-url=https://files.us-east-3.lambda.ai  --exclude \"*\" --include \"*.json\" #--exclude \"*transcript*\""
      ],
      "metadata": {
        "id": "RD5FP8-aTX5Q"
      },
      "execution_count": null,
      "outputs": []
    },
    {
      "cell_type": "code",
      "source": [
        "! mkdir /content/edited_jsons"
      ],
      "metadata": {
        "id": "OrrXdr3P_DHC"
      },
      "execution_count": null,
      "outputs": []
    },
    {
      "cell_type": "code",
      "source": [
        "# Fix the ref, vref and bible text in Jude video metadata\n",
        "import json\n",
        "from pathlib import Path\n",
        "\n",
        "from bible_text_access import get_verses, book_code_lookup\n",
        "from biblenlp_util import ref2vref\n",
        "\n",
        "correction_map = {\n",
        "    \"JUD 1:1\": \"JUD 1:1-2\",\n",
        "    \"JUD 1:2\": \"JUD 1:3\",\n",
        "    \"JUD 1:3\": \"JUD 1:4\",\n",
        "    \"JUD 1:4\": \"JUD 1:5-6\",\n",
        "    \"JUD 1:5\": \"JUD 1:7-8\",\n",
        "    \"JUD 1:6\": \"JUD 1:9-10\",\n",
        "    \"JUD 1:7\": \"JUD 1:11\",\n",
        "    \"JUD 1:8\": \"JUD 1:12\",\n",
        "    \"JUD 1:9\": \"JUD 1:13\",\n",
        "    \"JUD 1:10\": \"JUD 1:14-15\",\n",
        "    \"JUD 1:11\": \"JUD 1:17-19\",\n",
        "    \"JUD 1:12\": \"JUD 1:20-23\",\n",
        "    \"JUD 1:13\": \"JUD 1:24-25\"\n",
        "\n",
        "}\n",
        "\n",
        "verses = []\n",
        "for json_file in Path(\"/content/jsons/\").glob(\"*.json\"):\n",
        "    if \"transcripts\" in str(json_file):\n",
        "      continue\n",
        "    changed = False\n",
        "    data={}\n",
        "    trans_data={}\n",
        "    trans_file=None\n",
        "    with open(json_file, \"r\") as f:\n",
        "        data = json.load(f)\n",
        "        ref = data[\"bible-ref\"]\n",
        "        if ref in correction_map:\n",
        "          new_ref = correction_map[ref]\n",
        "          new_vref = ref2vref(new_ref)\n",
        "          data[\"bible-ref\"] = new_ref\n",
        "          data[\"biblenlp-vref\"] = new_vref\n",
        "          trans_file = str(json_file).replace(\".json\", \".transcripts.json\")\n",
        "          print(f\"{trans_file=}\")\n",
        "          with open(trans_file, \"r\") as f2:\n",
        "            trans_data = json.load(f2)\n",
        "            trans_data[0][\"bible-ref\"] = new_ref\n",
        "            trans_data[0][\"biblenlp-vref\"] = new_vref\n",
        "            trans_data[0][\"text\"] = get_verses(new_ref, \"BSB\")\n",
        "          changed = True\n",
        "          print(f\"{ref} to {new_ref}\")\n",
        "          # print(f\"{new_vref=}\")\n",
        "          # print(f\"{trans_data[0]['text']=}\")\n",
        "    if changed:\n",
        "      with open(str(json_file).replace(\"jsons/\",\"edited_jsons/\"), \"w\") as f:\n",
        "        json.dump(data, f, indent=4)\n",
        "      with open(trans_file.replace(\"jsons/\",\"edited_jsons/\"), \"w\") as f:\n",
        "        json.dump(trans_data, f, indent=4)\n",
        "      print(f\"{json_file} changed\")\n",
        "\n",
        "\n",
        "\n"
      ],
      "metadata": {
        "id": "sB9vxTN0rB0w"
      },
      "execution_count": null,
      "outputs": []
    },
    {
      "cell_type": "code",
      "source": [
        "! ls /content/edited_jsons/"
      ],
      "metadata": {
        "colab": {
          "base_uri": "https://localhost:8080/"
        },
        "id": "k4nsjNPmAIMM",
        "outputId": "cb00899f-5481-4452-ee1f-0da44f8c7a7f"
      },
      "execution_count": null,
      "outputs": [
        {
          "output_type": "stream",
          "name": "stdout",
          "text": [
            "1215.json\t       1220.json\t      1225.json\n",
            "1215.transcripts.json  1220.transcripts.json  1225.transcripts.json\n",
            "1216.json\t       1221.json\t      1226.json\n",
            "1216.transcripts.json  1221.transcripts.json  1226.transcripts.json\n",
            "1217.json\t       1222.json\t      1227.json\n",
            "1217.transcripts.json  1222.transcripts.json  1227.transcripts.json\n",
            "1218.json\t       1223.json\t      1228.json\n",
            "1218.transcripts.json  1223.transcripts.json  1228.transcripts.json\n",
            "1219.json\t       1224.json\n",
            "1219.transcripts.json  1224.transcripts.json\n"
          ]
        }
      ]
    },
    {
      "cell_type": "code",
      "source": [],
      "metadata": {
        "id": "rJyf-3ZCAfY8"
      },
      "execution_count": null,
      "outputs": []
    },
    {
      "cell_type": "code",
      "source": [],
      "metadata": {
        "id": "SozckraiBAQm"
      },
      "execution_count": null,
      "outputs": []
    },
    {
      "cell_type": "code",
      "source": [
        "import json\n",
        "from pathlib import Path\n",
        "\n",
        "from bible_text_access import get_verses, book_code_lookup\n",
        "from biblenlp_util import ref2vref\n",
        "\n",
        "json_file=\"/content/edited_jsons/1222.json\"\n",
        "data={}\n",
        "trans_data={}\n",
        "trans_file=None\n",
        "with open(json_file, \"r\") as f:\n",
        "    data = json.load(f)\n",
        "    new_ref = \"JUD 1:16\"\n",
        "    new_vref = ref2vref(new_ref)\n",
        "    data[\"bible-ref\"] = new_ref\n",
        "    data[\"biblenlp-vref\"] = new_vref\n",
        "    trans_file = json_file.replace(\".json\", \".transcripts.json\")\n",
        "    with open(trans_file, \"r\") as f2:\n",
        "      trans_data = json.load(f2)\n",
        "      trans_data[0][\"bible-ref\"] = new_ref\n",
        "      trans_data[0][\"biblenlp-vref\"] = new_vref\n",
        "      trans_data[0][\"text\"] = get_verses(new_ref, \"BSB\")\n",
        "    # print(f\"{new_vref=}\")\n",
        "    # print(f\"{trans_data[0]['text']=}\")\n",
        "with open(json_file, \"w\") as f:\n",
        "  json.dump(data, f, indent=4)\n",
        "with open(trans_file, \"w\") as f:\n",
        "  json.dump(trans_data, f, indent=4)\n",
        "print(f\"{json_file} changed\")\n",
        "\n"
      ],
      "metadata": {
        "colab": {
          "base_uri": "https://localhost:8080/"
        },
        "id": "tosg6dJS614B",
        "outputId": "cc311335-9bc8-4aa5-b2cc-d025b779e5b6"
      },
      "execution_count": null,
      "outputs": [
        {
          "output_type": "stream",
          "name": "stdout",
          "text": [
            "/content/edited_jsons/1222.json changed\n"
          ]
        }
      ]
    },
    {
      "cell_type": "code",
      "source": [
        "! aws s3 sync /content/edited_jsons/ s3://6a8e9853-8a1d-4662-9fa6-be70cced7c34/outputs/ --endpoint-url=https://files.us-east-3.lambda.ai"
      ],
      "metadata": {
        "id": "SWvZ-2XH9IVX"
      },
      "execution_count": null,
      "outputs": []
    },
    {
      "cell_type": "code",
      "source": [
        "!aws s3 cp s3://6a8e9853-8a1d-4662-9fa6-be70cced7c34/outputs/ /content/mp4s/ --recursive --endpoint-url https://files.us-east-3.lambda.ai --exclude \"*\" --include \"*.mp4\""
      ],
      "metadata": {
        "id": "YUTt0Hd19IGJ"
      },
      "execution_count": null,
      "outputs": []
    },
    {
      "cell_type": "markdown",
      "source": [
        "### Convert mp4 encoding"
      ],
      "metadata": {
        "id": "ya6MSSNvT68C"
      }
    },
    {
      "cell_type": "code",
      "source": [
        "! aws s3 cp s3://6a8e9853-8a1d-4662-9fa6-be70cced7c34/outputs/ /content/outputs/  --recursive --endpoint-url=https://files.us-east-3.lambda.ai  --exclude \"*\" --include \"*.mp4\""
      ],
      "metadata": {
        "id": "cR0Dwpa0DWAL"
      },
      "execution_count": null,
      "outputs": []
    },
    {
      "cell_type": "code",
      "source": [
        "! ls /content/outputs/* | wc"
      ],
      "metadata": {
        "colab": {
          "base_uri": "https://localhost:8080/"
        },
        "id": "ZnNqTksRBoyB",
        "outputId": "bd35c474-f866-4290-a0fa-4b1794d3bbf3"
      },
      "execution_count": 10,
      "outputs": [
        {
          "output_type": "stream",
          "name": "stdout",
          "text": [
            "    870     870   22620\n"
          ]
        }
      ]
    },
    {
      "cell_type": "code",
      "source": [
        "! du /content/outputs/ -hs"
      ],
      "metadata": {
        "colab": {
          "base_uri": "https://localhost:8080/"
        },
        "id": "BWRHY8z8WObH",
        "outputId": "49fa73ef-ad39-407f-eb92-c65eb2b24f97"
      },
      "execution_count": 11,
      "outputs": [
        {
          "output_type": "stream",
          "name": "stdout",
          "text": [
            "47G\t/content/outputs/\n"
          ]
        }
      ]
    },
    {
      "cell_type": "code",
      "source": [
        "!wget https://raw.githubusercontent.com/kavitharaju/sign-bibles-dataset/refs/heads/ISL-NT-corrections/dataprep/isl/change_mp4_encoding.py"
      ],
      "metadata": {
        "colab": {
          "base_uri": "https://localhost:8080/"
        },
        "id": "5Ayn7_y-WOfl",
        "outputId": "c2ea18d8-a9cb-4893-8f10-8c70ab1a24c5"
      },
      "execution_count": 15,
      "outputs": [
        {
          "output_type": "stream",
          "name": "stdout",
          "text": [
            "--2025-09-26 04:52:34--  https://raw.githubusercontent.com/kavitharaju/sign-bibles-dataset/refs/heads/ISL-NT-corrections/dataprep/isl/change_mp4_encoding.py\n",
            "Resolving raw.githubusercontent.com (raw.githubusercontent.com)... 185.199.110.133, 185.199.108.133, 185.199.109.133, ...\n",
            "Connecting to raw.githubusercontent.com (raw.githubusercontent.com)|185.199.110.133|:443... connected.\n",
            "HTTP request sent, awaiting response... 200 OK\n",
            "Length: 976 [text/plain]\n",
            "Saving to: ‘change_mp4_encoding.py.1’\n",
            "\n",
            "\rchange_mp4_encoding   0%[                    ]       0  --.-KB/s               \rchange_mp4_encoding 100%[===================>]     976  --.-KB/s    in 0s      \n",
            "\n",
            "2025-09-26 04:52:34 (122 MB/s) - ‘change_mp4_encoding.py.1’ saved [976/976]\n",
            "\n"
          ]
        }
      ]
    },
    {
      "cell_type": "code",
      "source": [
        "!pip install ffmpeg-python"
      ],
      "metadata": {
        "colab": {
          "base_uri": "https://localhost:8080/"
        },
        "id": "XwZYIaBkWOil",
        "outputId": "db598473-3161-4ad7-a4ee-53d9e64a1b32"
      },
      "execution_count": 13,
      "outputs": [
        {
          "output_type": "stream",
          "name": "stdout",
          "text": [
            "Collecting ffmpeg-python\n",
            "  Downloading ffmpeg_python-0.2.0-py3-none-any.whl.metadata (1.7 kB)\n",
            "Collecting future (from ffmpeg-python)\n",
            "  Downloading future-1.0.0-py3-none-any.whl.metadata (4.0 kB)\n",
            "Downloading ffmpeg_python-0.2.0-py3-none-any.whl (25 kB)\n",
            "Downloading future-1.0.0-py3-none-any.whl (491 kB)\n",
            "\u001b[?25l   \u001b[90m━━━━━━━━━━━━━━━━━━━━━━━━━━━━━━━━━━━━━━━━\u001b[0m \u001b[32m0.0/491.3 kB\u001b[0m \u001b[31m?\u001b[0m eta \u001b[36m-:--:--\u001b[0m\r\u001b[2K   \u001b[91m━━━━━━━━━━━━━━━━━━━━━━━━━━━━━━━━━━━━━━━\u001b[0m\u001b[90m╺\u001b[0m \u001b[32m481.3/491.3 kB\u001b[0m \u001b[31m20.5 MB/s\u001b[0m eta \u001b[36m0:00:01\u001b[0m\r\u001b[2K   \u001b[90m━━━━━━━━━━━━━━━━━━━━━━━━━━━━━━━━━━━━━━━━\u001b[0m \u001b[32m491.3/491.3 kB\u001b[0m \u001b[31m13.9 MB/s\u001b[0m eta \u001b[36m0:00:00\u001b[0m\n",
            "\u001b[?25hInstalling collected packages: future, ffmpeg-python\n",
            "Successfully installed ffmpeg-python-0.2.0 future-1.0.0\n"
          ]
        }
      ]
    },
    {
      "cell_type": "code",
      "source": [
        "!time(python change_mp4_encoding.py /content/outputs/)"
      ],
      "metadata": {
        "id": "RuKKj1rSWOll"
      },
      "execution_count": null,
      "outputs": []
    },
    {
      "cell_type": "code",
      "source": [
        "! du /content/outputs/ -hs"
      ],
      "metadata": {
        "colab": {
          "base_uri": "https://localhost:8080/"
        },
        "id": "QyzGmV5IWOoW",
        "outputId": "6270cd67-97cd-4812-a74c-4e6745577643"
      },
      "execution_count": 17,
      "outputs": [
        {
          "output_type": "stream",
          "name": "stdout",
          "text": [
            "17G\t/content/outputs/\n"
          ]
        }
      ]
    },
    {
      "cell_type": "code",
      "source": [
        "! aws s3 cp  /content/outputs/ s3://6a8e9853-8a1d-4662-9fa6-be70cced7c34/outputs/  --recursive --endpoint-url=https://files.us-east-3.lambda.ai  --exclude \"*\" --include \"*.mp4\""
      ],
      "metadata": {
        "id": "zMqDGQtTWOrF"
      },
      "execution_count": null,
      "outputs": []
    },
    {
      "cell_type": "code",
      "source": [],
      "metadata": {
        "id": "pzRuzYCSdIaW"
      },
      "execution_count": null,
      "outputs": []
    },
    {
      "cell_type": "markdown",
      "source": [
        "### Remove select samples\n",
        "(duplicates and overlaps)"
      ],
      "metadata": {
        "id": "1UPyAdLtdJQ6"
      }
    },
    {
      "cell_type": "code",
      "source": [
        "! aws s3 rm s3://6a8e9853-8a1d-4662-9fa6-be70cced7c34/outputs/ --recursive --endpoint-url=https://files.us-east-3.lambda.ai --exclude \"*\" --include \"1896*\""
      ],
      "metadata": {
        "colab": {
          "base_uri": "https://localhost:8080/"
        },
        "id": "N7ct8FaZWOt2",
        "outputId": "e4811811-6721-48ec-c259-346ec645b44e"
      },
      "execution_count": 126,
      "outputs": [
        {
          "output_type": "stream",
          "name": "stdout",
          "text": [
            "delete: s3://6a8e9853-8a1d-4662-9fa6-be70cced7c34/outputs/1896.mp4\n",
            "delete: s3://6a8e9853-8a1d-4662-9fa6-be70cced7c34/outputs/1896.json\n",
            "delete: s3://6a8e9853-8a1d-4662-9fa6-be70cced7c34/outputs/1896.pose-dwpose.npz\n",
            "delete: s3://6a8e9853-8a1d-4662-9fa6-be70cced7c34/outputs/1896.pose-mediapipe.npz\n",
            "delete: s3://6a8e9853-8a1d-4662-9fa6-be70cced7c34/outputs/1896.pose-mediapipe.pose\n",
            "delete: s3://6a8e9853-8a1d-4662-9fa6-be70cced7c34/outputs/1896.transcripts.json\n"
          ]
        }
      ]
    },
    {
      "cell_type": "code",
      "source": [
        "! aws s3 ls s3://6a8e9853-8a1d-4662-9fa6-be70cced7c34/outputs/ --endpoint-url=https://files.us-east-3.lambda.ai  | wc"
      ],
      "metadata": {
        "colab": {
          "base_uri": "https://localhost:8080/"
        },
        "id": "ZUVrgE3Kbhe_",
        "outputId": "fc127157-ef96-464b-fc76-9caf58fbf178"
      },
      "execution_count": 128,
      "outputs": [
        {
          "output_type": "stream",
          "name": "stdout",
          "text": [
            "   5136   20544  254232\n"
          ]
        }
      ]
    },
    {
      "cell_type": "markdown",
      "source": [
        "### Next heading"
      ],
      "metadata": {
        "id": "FGLxw8x1WJSp"
      }
    }
  ],
  "metadata": {
    "colab": {
      "machine_shape": "hm",
      "provenance": [],
      "collapsed_sections": [
        "CU3amJLujZND"
      ],
      "gpuType": "V5E1"
    },
    "kernelspec": {
      "display_name": "Python 3",
      "name": "python3"
    },
    "language_info": {
      "name": "python"
    },
    "accelerator": "TPU"
  },
  "nbformat": 4,
  "nbformat_minor": 0
}