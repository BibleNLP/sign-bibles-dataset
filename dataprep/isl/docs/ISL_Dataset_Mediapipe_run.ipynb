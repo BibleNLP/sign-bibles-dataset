{
  "cells": [
    {
      "cell_type": "markdown",
      "metadata": {
        "id": "EO1gl4CvcMR8"
      },
      "source": [
        "# ISL Dataprep\n",
        "## Run Mediapipe on downsampled and trimmed videos to generate .npz output"
      ]
    },
    {
      "cell_type": "code",
      "source": [
        "!nproc"
      ],
      "metadata": {
        "colab": {
          "base_uri": "https://localhost:8080/"
        },
        "id": "K806XB1HaZxw",
        "outputId": "04e755fa-a529-41ab-9e31-853110e1f191"
      },
      "execution_count": 1,
      "outputs": [
        {
          "output_type": "stream",
          "name": "stdout",
          "text": [
            "44\n"
          ]
        }
      ]
    },
    {
      "cell_type": "markdown",
      "source": [
        "## Set up data"
      ],
      "metadata": {
        "id": "n3pQDHLybitK"
      }
    },
    {
      "cell_type": "markdown",
      "metadata": {
        "id": "oYHqQZ1wce49"
      },
      "source": [
        "Data Source: Lambda filesystem\n",
        "  - bucket name: 921c05b3-8e02-4c0b-9623-d1de39939163\n",
        "  - region: us-east-3\n",
        "\n",
        "\n",
        "AWS creds needed:\n",
        "  - AWS_ACCESS_KEY_ID=9P7Q2ADQR5WPGY83629B\n",
        "  - AWS_SECRET_ACCESS_KEY=*********\n",
        "  - AWS_REGION=us-east-3\n",
        "  - S3_ENDPOINT_URL=\"https://files.us-east-3.lambda.ai\"\n",
        "\n",
        "Change the bucket and credentials when using a different instance. These are given as pattern reference."
      ]
    },
    {
      "cell_type": "code",
      "execution_count": null,
      "metadata": {
        "id": "h2NnwJyecIrU",
        "collapsed": true
      },
      "outputs": [],
      "source": [
        "!pip install awscli boto3"
      ]
    },
    {
      "cell_type": "code",
      "source": [
        "! aws --version"
      ],
      "metadata": {
        "colab": {
          "base_uri": "https://localhost:8080/"
        },
        "id": "JMqsJlzpHmIr",
        "outputId": "d90ca33f-f75b-4259-d444-d5c62d4bbda6"
      },
      "execution_count": 3,
      "outputs": [
        {
          "output_type": "stream",
          "name": "stdout",
          "text": [
            "aws-cli/1.42.36 Python/3.12.11 Linux/6.6.97+ botocore/1.40.36\n"
          ]
        }
      ]
    },
    {
      "cell_type": "code",
      "execution_count": 4,
      "metadata": {
        "id": "oQi49VlTcKbH"
      },
      "outputs": [],
      "source": [
        "import os\n",
        "os.environ['AWS_ACCESS_KEY_ID'] = 'C0INV916QMS8WB9F104E'\n",
        "os.environ['AWS_SECRET_ACCESS_KEY'] = '**********'\n",
        "os.environ['AWS_DEFAULT_REGION'] = 'us-east-3'"
      ]
    },
    {
      "cell_type": "code",
      "source": [
        "! aws configure"
      ],
      "metadata": {
        "id": "kFiiKQfeK8gS"
      },
      "execution_count": null,
      "outputs": []
    },
    {
      "cell_type": "code",
      "source": [
        "!echo \"[default]\" > ~/.aws/config\n",
        "!echo \"region =us-east-3 \" >> ~/.aws/config\n",
        "!echo \"endpoint-url =https://files.us-east-3.lambda.ai \" >> ~/.aws/config\n",
        "!echo \"\" >> ~/.aws/config\n",
        "\n",
        "\n",
        "!echo \"request_checksum_calculation =when_required \" >> ~/.aws/config\n",
        "!echo \"response_checksum_validation =when_required \" >> ~/.aws/config\n",
        "!echo \"\" >> ~/.aws/config\n"
      ],
      "metadata": {
        "id": "pFdIW4zdLuXG"
      },
      "execution_count": 6,
      "outputs": []
    },
    {
      "cell_type": "code",
      "source": [
        "cat ~/.aws/config"
      ],
      "metadata": {
        "colab": {
          "base_uri": "https://localhost:8080/"
        },
        "id": "LpoOK2VFLOsd",
        "outputId": "ced6721c-d46a-49fd-c368-05c5677ebd03"
      },
      "execution_count": 7,
      "outputs": [
        {
          "output_type": "stream",
          "name": "stdout",
          "text": [
            "[default]\n",
            "region =us-east-3 \n",
            "endpoint-url =https://files.us-east-3.lambda.ai \n",
            "\n",
            "request_checksum_calculation =when_required \n",
            "response_checksum_validation =when_required \n",
            "\n"
          ]
        }
      ]
    },
    {
      "cell_type": "code",
      "execution_count": 8,
      "metadata": {
        "id": "raWZpLt7cKeX",
        "colab": {
          "base_uri": "https://localhost:8080/"
        },
        "outputId": "07121558-f547-426d-9201-a81254476523"
      },
      "outputs": [
        {
          "output_type": "stream",
          "name": "stdout",
          "text": [
            "   4350   17400  210540\n"
          ]
        }
      ],
      "source": [
        "!aws s3 ls s3://6a8e9853-8a1d-4662-9fa6-be70cced7c34/outputs/ --endpoint-url https://files.us-east-3.lambda.ai | wc"
      ]
    },
    {
      "cell_type": "code",
      "execution_count": null,
      "metadata": {
        "id": "Ir5DEWkHcKhG"
      },
      "outputs": [],
      "source": [
        "!aws s3 cp s3://6a8e9853-8a1d-4662-9fa6-be70cced7c34/outputs/ /content/isl_gospel_videos --recursive --exclude \"*\" --include \"*.mp4\" --endpoint-url https://files.us-east-3.lambda.ai"
      ]
    },
    {
      "cell_type": "code",
      "execution_count": 8,
      "metadata": {
        "id": "VLcl6MJlcKj3"
      },
      "outputs": [],
      "source": []
    },
    {
      "cell_type": "code",
      "source": [],
      "metadata": {
        "id": "tSmbW-vGV7zB"
      },
      "execution_count": 8,
      "outputs": []
    },
    {
      "cell_type": "code",
      "execution_count": 10,
      "metadata": {
        "id": "7IdT7SDccKmY",
        "colab": {
          "base_uri": "https://localhost:8080/"
        },
        "outputId": "de206837-0112-4f9f-ef01-11cf578e91b1"
      },
      "outputs": [
        {
          "output_type": "stream",
          "name": "stdout",
          "text": [
            "Filesystem      Size  Used Avail Use% Mounted on\n",
            "overlay         226G   67G  160G  30% /\n"
          ]
        }
      ],
      "source": [
        "! df -h /"
      ]
    },
    {
      "cell_type": "code",
      "source": [
        "ls /content/"
      ],
      "metadata": {
        "colab": {
          "base_uri": "https://localhost:8080/"
        },
        "id": "xT81XSq6nRbQ",
        "outputId": "2df375ed-46de-47e3-d525-b30e0422243c"
      },
      "execution_count": 11,
      "outputs": [
        {
          "output_type": "stream",
          "name": "stdout",
          "text": [
            "\u001b[0m\u001b[01;34misl_gospel_videos\u001b[0m/  \u001b[01;34msample_data\u001b[0m/\n"
          ]
        }
      ]
    },
    {
      "cell_type": "markdown",
      "source": [
        "## Set up code"
      ],
      "metadata": {
        "id": "CU3amJLujZND"
      }
    },
    {
      "cell_type": "code",
      "source": [
        "! mkdir /content/logs"
      ],
      "metadata": {
        "id": "4cAOwwfVnLg3"
      },
      "execution_count": 12,
      "outputs": []
    },
    {
      "cell_type": "code",
      "execution_count": 22,
      "metadata": {
        "id": "G7WZPRgbcKo6"
      },
      "outputs": [],
      "source": []
    },
    {
      "cell_type": "code",
      "source": [
        "!apt-get update && apt-get install -y parallel"
      ],
      "metadata": {
        "collapsed": true,
        "id": "fOl1Bud2qHqk"
      },
      "execution_count": null,
      "outputs": []
    },
    {
      "cell_type": "code",
      "source": [
        "!parallel --version"
      ],
      "metadata": {
        "colab": {
          "base_uri": "https://localhost:8080/"
        },
        "collapsed": true,
        "id": "3SBycSh-p38M",
        "outputId": "d51e4b39-a92e-4151-d0c2-23b927feebb9"
      },
      "execution_count": 14,
      "outputs": [
        {
          "output_type": "stream",
          "name": "stdout",
          "text": [
            "GNU parallel 20210822\n",
            "Copyright (C) 2007-2021 Ole Tange, http://ole.tange.dk and Free Software\n",
            "Foundation, Inc.\n",
            "License GPLv3+: GNU GPL version 3 or later <https://gnu.org/licenses/gpl.html>\n",
            "This is free software: you are free to change and redistribute it.\n",
            "GNU parallel comes with no warranty.\n",
            "\n",
            "Web site: https://www.gnu.org/software/parallel\n",
            "\n",
            "When using programs that use GNU Parallel to process data for publication\n",
            "please cite as described in the manpage.\n"
          ]
        }
      ]
    },
    {
      "cell_type": "code",
      "source": [
        "! git clone https://github.com/kavitharaju/sign-bibles-dataset.git"
      ],
      "metadata": {
        "id": "MCOERU94jYm5"
      },
      "execution_count": null,
      "outputs": []
    },
    {
      "cell_type": "code",
      "execution_count": 16,
      "metadata": {
        "id": "1w7I3JtjcKw4",
        "colab": {
          "base_uri": "https://localhost:8080/"
        },
        "outputId": "95bb642c-40c3-41ec-ba73-702333ce1c66"
      },
      "outputs": [
        {
          "output_type": "stream",
          "name": "stdout",
          "text": [
            "/content/sign-bibles-dataset/dataprep/isl\n"
          ]
        }
      ],
      "source": [
        "cd /content/sign-bibles-dataset/dataprep/isl/"
      ]
    },
    {
      "cell_type": "code",
      "source": [
        "! ls /content/sign-bibles-dataset/dataprep/isl"
      ],
      "metadata": {
        "id": "P_j0XnDtkRY9"
      },
      "execution_count": null,
      "outputs": []
    },
    {
      "cell_type": "code",
      "execution_count": 18,
      "metadata": {
        "id": "Pr-Zgh6-cKrY",
        "colab": {
          "base_uri": "https://localhost:8080/"
        },
        "outputId": "87e2e316-c957-40ca-b5ad-9985126b2fbb"
      },
      "outputs": [
        {
          "output_type": "stream",
          "name": "stdout",
          "text": [
            "Switched to a new branch 'split-cpu-pipeline-into-local-n-cloud'\n"
          ]
        }
      ],
      "source": [
        "!git checkout -b split-cpu-pipeline-into-local-n-cloud"
      ]
    },
    {
      "cell_type": "code",
      "execution_count": null,
      "metadata": {
        "id": "Pdj82jdGcK17"
      },
      "outputs": [],
      "source": [
        "!git pull origin split-cpu-pipeline-into-local-n-cloud"
      ]
    },
    {
      "cell_type": "code",
      "source": [
        "! git status"
      ],
      "metadata": {
        "colab": {
          "base_uri": "https://localhost:8080/"
        },
        "id": "UHpM2X0sW1mU",
        "outputId": "2bdd6c4f-9213-4392-cf59-c390095f54f7"
      },
      "execution_count": 20,
      "outputs": [
        {
          "output_type": "stream",
          "name": "stdout",
          "text": [
            "On branch split-cpu-pipeline-into-local-n-cloud\n",
            "nothing to commit, working tree clean\n"
          ]
        }
      ]
    },
    {
      "cell_type": "code",
      "source": [],
      "metadata": {
        "id": "aEn58X3maQEV"
      },
      "execution_count": 20,
      "outputs": []
    },
    {
      "cell_type": "code",
      "source": [
        "! pip install -r requirements_mp.txt"
      ],
      "metadata": {
        "collapsed": true,
        "id": "d2zf9u_Zky4K"
      },
      "execution_count": null,
      "outputs": []
    },
    {
      "cell_type": "markdown",
      "source": [
        "## Run data processing"
      ],
      "metadata": {
        "id": "9yjuSGxwctGR"
      }
    },
    {
      "cell_type": "code",
      "source": [
        "!ls /content/isl_gospel_videos/*.mp4 | xargs -n 1 basename -s .mp4 > /content/full_input_list.txt"
      ],
      "metadata": {
        "id": "qIWT8mnQdCH6"
      },
      "execution_count": 23,
      "outputs": []
    },
    {
      "cell_type": "code",
      "source": [
        "! sed -n '601,870p' /content/full_input_list.txt > /content/input_list.txt"
      ],
      "metadata": {
        "id": "U-EeGxmxeRav"
      },
      "execution_count": 41,
      "outputs": []
    },
    {
      "cell_type": "code",
      "source": [],
      "metadata": {
        "id": "jcFQnlZUmlJM"
      },
      "execution_count": 29,
      "outputs": []
    },
    {
      "cell_type": "code",
      "source": [
        "!time(bash run_parallel_mp.sh)"
      ],
      "metadata": {
        "collapsed": true,
        "id": "K8yvrBRTohzP"
      },
      "execution_count": null,
      "outputs": []
    },
    {
      "cell_type": "code",
      "source": [
        "cat /content/logs/success.log"
      ],
      "metadata": {
        "collapsed": true,
        "id": "4yYRB8yUohdx"
      },
      "execution_count": null,
      "outputs": []
    },
    {
      "cell_type": "code",
      "source": [],
      "metadata": {
        "id": "ylhAeuhHgUlD"
      },
      "execution_count": null,
      "outputs": []
    },
    {
      "cell_type": "markdown",
      "source": [
        "## Upload outputs"
      ],
      "metadata": {
        "id": "Dcr1-dYkdPNN"
      }
    },
    {
      "cell_type": "code",
      "source": [
        "pwd"
      ],
      "metadata": {
        "colab": {
          "base_uri": "https://localhost:8080/",
          "height": 35
        },
        "id": "EtiChvKuprKU",
        "outputId": "2fa3ab2d-f7b4-4a50-cbc2-5071d12a3d22"
      },
      "execution_count": null,
      "outputs": [
        {
          "output_type": "execute_result",
          "data": {
            "text/plain": [
              "'/content/sign-bibles-dataset/dataprep/isl'"
            ],
            "application/vnd.google.colaboratory.intrinsic+json": {
              "type": "string"
            }
          },
          "metadata": {},
          "execution_count": 33
        }
      ]
    },
    {
      "cell_type": "code",
      "source": [
        "! ls /content/isl_gospel_videos/*.npz | wc"
      ],
      "metadata": {
        "id": "fV3rAs2fx8Er",
        "colab": {
          "base_uri": "https://localhost:8080/"
        },
        "outputId": "51d34c4d-095a-4c5a-fa61-a782b7e27dfe"
      },
      "execution_count": 43,
      "outputs": [
        {
          "output_type": "stream",
          "name": "stdout",
          "text": [
            "    870     870   44370\n"
          ]
        }
      ]
    },
    {
      "cell_type": "code",
      "source": [],
      "metadata": {
        "id": "HW0Ea4XcJV4n"
      },
      "execution_count": null,
      "outputs": []
    },
    {
      "cell_type": "code",
      "source": [
        "! aws s3 sync /content/isl_gospel_videos/ s3://6a8e9853-8a1d-4662-9fa6-be70cced7c34/outputs/ --endpoint-url=https://files.us-east-3.lambda.ai  --exclude \"*\" --include \"*.npz\""
      ],
      "metadata": {
        "collapsed": true,
        "id": "K3lM7PZtFaVZ"
      },
      "execution_count": null,
      "outputs": []
    },
    {
      "cell_type": "code",
      "source": [
        "! aws s3 ls s3://6a8e9853-8a1d-4662-9fa6-be70cced7c34/outputs/ --endpoint-url=https://files.us-east-3.lambda.ai | grep mediapipe.npz | wc"
      ],
      "metadata": {
        "colab": {
          "base_uri": "https://localhost:8080/"
        },
        "id": "O4n2njjNIS9W",
        "outputId": "c24f7a13-4dac-41d4-d407-32d160510fce"
      },
      "execution_count": 45,
      "outputs": [
        {
          "output_type": "stream",
          "name": "stdout",
          "text": [
            "    870    3480   47850\n"
          ]
        }
      ]
    },
    {
      "cell_type": "code",
      "source": [],
      "metadata": {
        "id": "DPsQ-268iF84"
      },
      "execution_count": 46,
      "outputs": []
    }
  ],
  "metadata": {
    "accelerator": "TPU",
    "colab": {
      "gpuType": "V6E1",
      "machine_shape": "hm",
      "provenance": []
    },
    "kernelspec": {
      "display_name": "Python 3",
      "name": "python3"
    },
    "language_info": {
      "name": "python"
    }
  },
  "nbformat": 4,
  "nbformat_minor": 0
}